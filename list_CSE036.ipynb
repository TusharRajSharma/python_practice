{
 "cells": [
  {
   "cell_type": "markdown",
   "metadata": {},
   "source": [
    "# CREATING LIST"
   ]
  },
  {
   "cell_type": "code",
   "execution_count": 10,
   "metadata": {},
   "outputs": [
    {
     "name": "stdout",
     "output_type": "stream",
     "text": [
      "[]\n",
      "[1, 5, 6, 7, 8, 2, 9, 3]\n",
      "['a', 'g', 'f', 't', 'h', 'j', 'k', 'o', 'p']\n",
      "[1, 2, ['a', 'u', 5], 5.2]\n",
      "['a', 'g', 'f', 't', 'h', 'j', 'k', 'o', 'p', 1, 5, 6, 7, 8, 2, 9, 3]\n"
     ]
    }
   ],
   "source": [
    "empty = []\n",
    "integers = [1,5,6,7,8,2,9,3]\n",
    "string = ['a','g','f','t','h','j','k','o','p']\n",
    "mix = [1,2,['a','u',5],5.2]\n",
    "\n",
    "print(empty)\n",
    "print(integers)\n",
    "print(string)\n",
    "print(mix)\n",
    "\n",
    "x = string + integers\n",
    "print(x)"
   ]
  },
  {
   "cell_type": "markdown",
   "metadata": {},
   "source": [
    "# PRINTING ELEMENTS OF LIST"
   ]
  },
  {
   "cell_type": "code",
   "execution_count": 12,
   "metadata": {},
   "outputs": [
    {
     "name": "stdout",
     "output_type": "stream",
     "text": [
      "6\n",
      "[5, 6]\n",
      "[5, 6, 7, 8]\n",
      "j\n",
      "['f', 't', 'h', 'j', 'k', 'o', 'p']\n",
      "['a', 'g', 'f', 't', 'h', 'j', 'k']\n",
      "['a', 'u', 5]\n",
      "['a', 'u'] [2, ['a', 'u', 5]]\n",
      "[['a', 'u', 5]]\n"
     ]
    }
   ],
   "source": [
    "print(integers[2])\n",
    "print(integers[1:3])\n",
    "print(integers[1:-3])\n",
    "\n",
    "print(string[-4])\n",
    "print(string[2:])\n",
    "print(string[:-2])\n",
    "\n",
    "print(mix[2])\n",
    "print(mix[2][:-1],mix[1:3])\n",
    "print(mix[2:-1])"
   ]
  },
  {
   "cell_type": "markdown",
   "metadata": {},
   "source": [
    "# UPDATING LISTS"
   ]
  },
  {
   "cell_type": "code",
   "execution_count": 13,
   "metadata": {},
   "outputs": [
    {
     "name": "stdout",
     "output_type": "stream",
     "text": [
      "[1, 5, 0, 7, 8, 2, 9, 3]\n"
     ]
    }
   ],
   "source": [
    "integers[2] = 0\n",
    "print(integers)"
   ]
  },
  {
   "cell_type": "code",
   "execution_count": 14,
   "metadata": {},
   "outputs": [
    {
     "ename": "IndexError",
     "evalue": "list assignment index out of range",
     "output_type": "error",
     "traceback": [
      "\u001b[1;31m---------------------------------------------------------------------------\u001b[0m",
      "\u001b[1;31mIndexError\u001b[0m                                Traceback (most recent call last)",
      "\u001b[1;32m<ipython-input-14-884ab70992e3>\u001b[0m in \u001b[0;36m<module>\u001b[1;34m\u001b[0m\n\u001b[1;32m----> 1\u001b[1;33m \u001b[0mmix\u001b[0m\u001b[1;33m[\u001b[0m\u001b[1;36m4\u001b[0m\u001b[1;33m]\u001b[0m \u001b[1;33m=\u001b[0m \u001b[1;36m3.14\u001b[0m\u001b[1;33m\u001b[0m\u001b[1;33m\u001b[0m\u001b[0m\n\u001b[0m\u001b[0;32m      2\u001b[0m \u001b[0mprint\u001b[0m\u001b[1;33m(\u001b[0m\u001b[0mmix\u001b[0m\u001b[1;33m)\u001b[0m\u001b[1;33m\u001b[0m\u001b[1;33m\u001b[0m\u001b[0m\n",
      "\u001b[1;31mIndexError\u001b[0m: list assignment index out of range"
     ]
    }
   ],
   "source": [
    "mix[4] = 3.14  #can only update the assigned indices..\n",
    "print(mix)"
   ]
  },
  {
   "cell_type": "code",
   "execution_count": 44,
   "metadata": {},
   "outputs": [
    {
     "name": "stdout",
     "output_type": "stream",
     "text": [
      "[1, 5, 0, 7, 8, 2, 9, 3, 4, 9]\n",
      "[1, 5, 0, 7, 8, 2, 9, 3, 4, 9, [3, 7]]\n"
     ]
    }
   ],
   "source": [
    "integers.append(9)\n",
    "print(integers)\n",
    "\n",
    "integers.append([3,7])\n",
    "print(integers)\n"
   ]
  },
  {
   "cell_type": "code",
   "execution_count": 54,
   "metadata": {},
   "outputs": [
    {
     "name": "stdout",
     "output_type": "stream",
     "text": [
      "['a', 'g', 'f', 't', 'h', 'j', 'k', 'o', 'p', 'd', 't', 'q']\n"
     ]
    }
   ],
   "source": [
    "string.extend(['d','t','q'])\n",
    "print(string)"
   ]
  },
  {
   "cell_type": "code",
   "execution_count": 55,
   "metadata": {},
   "outputs": [
    {
     "name": "stdout",
     "output_type": "stream",
     "text": [
      "['a', 'g', 'f', 't', 'h', 'j', 'k', 'o', 'p', 'd', 't', 'q', 'x']\n"
     ]
    }
   ],
   "source": [
    "y = string + ['x']\n",
    "print(y)"
   ]
  },
  {
   "cell_type": "code",
   "execution_count": 56,
   "metadata": {},
   "outputs": [
    {
     "name": "stdout",
     "output_type": "stream",
     "text": [
      "[1, 2, ['a', 'u', 5], 5.2, 3.14]\n"
     ]
    }
   ],
   "source": [
    "mix.insert(4,3.14)\n",
    "print(mix)"
   ]
  },
  {
   "cell_type": "code",
   "execution_count": 59,
   "metadata": {},
   "outputs": [
    {
     "name": "stdout",
     "output_type": "stream",
     "text": [
      "[1, 5, 0, 7, 8, 2, 9, 3, 4, 9, [3, 7]]\n",
      "[1, 5, 0, 7, 8, 2, 3, 4, 9, [3, 7]]\n"
     ]
    }
   ],
   "source": [
    "print(integers)\n",
    "\n",
    "integers.remove(9)\n",
    "print(integers)"
   ]
  },
  {
   "cell_type": "code",
   "execution_count": 64,
   "metadata": {},
   "outputs": [
    {
     "name": "stdout",
     "output_type": "stream",
     "text": [
      "['a', 'g', 'f', 't', 'h', 'j', 'k', 'o', 'p', 'd', 't', 'q']\n",
      "['a', 'g', 't', 'h', 'j', 'k', 'o', 'p', 'd', 't', 'q']\n"
     ]
    }
   ],
   "source": [
    "print(string)\n",
    "string.pop(2)   #to remove any element, enter its indice no,,\n",
    "print(string)"
   ]
  },
  {
   "cell_type": "code",
   "execution_count": 67,
   "metadata": {},
   "outputs": [
    {
     "name": "stdout",
     "output_type": "stream",
     "text": [
      "['a', 'g', 't', 'h', 'j', 'k', 'o', 'p', 'd', 't']\n",
      "['a', 'g', 't', 'h', 'j', 'k', 'o', 'p', 'd']\n"
     ]
    }
   ],
   "source": [
    "print(string)\n",
    "string.pop()   #removes the last index item if index no. is not specified,,,\n",
    "print(string)"
   ]
  },
  {
   "cell_type": "code",
   "execution_count": 79,
   "metadata": {},
   "outputs": [
    {
     "name": "stdout",
     "output_type": "stream",
     "text": [
      "['a', 'g', 'f', 't', 'h', 'j', 'k', 'o', 'p']\n",
      "[0, 1, 2, 3, 4, 5, 7, 8, 9]\n",
      "[1, 2, ['a', 'u', 5], 5.2, 3.14, ['x', 5, 22.7]]\n",
      "[]\n"
     ]
    }
   ],
   "source": [
    "print(string)\n",
    "print(integers)\n",
    "print(mix)\n",
    "\n",
    "string.clear()\n",
    "print(string)"
   ]
  },
  {
   "cell_type": "code",
   "execution_count": 81,
   "metadata": {},
   "outputs": [
    {
     "name": "stdout",
     "output_type": "stream",
     "text": [
      "[1, 5, 6, 7, 8, 2, 9, 3, 22, 17, 12, 11, 30, 23, 49, 35]\n",
      "3\n",
      "[1, 2, 3, 5, 6, 7, 8, 9, 11, 12, 17, 22, 23, 30, 35, 49]\n",
      "5\n",
      "0\n"
     ]
    }
   ],
   "source": [
    "print(integers)\n",
    "print(integers.index(7))\n",
    "\n",
    "integers.sort()\n",
    "print(integers)\n",
    "print(integers.index(7))\n",
    "\n",
    "print(mix.count(5))"
   ]
  },
  {
   "cell_type": "code",
   "execution_count": 82,
   "metadata": {},
   "outputs": [
    {
     "name": "stdout",
     "output_type": "stream",
     "text": [
      "1\n"
     ]
    }
   ],
   "source": [
    "print(mix.count(['a', 'u', 5]))"
   ]
  },
  {
   "cell_type": "markdown",
   "metadata": {},
   "source": [
    "# List Membership Test"
   ]
  },
  {
   "cell_type": "code",
   "execution_count": 84,
   "metadata": {},
   "outputs": [
    {
     "name": "stdout",
     "output_type": "stream",
     "text": [
      "[1, 2, 3, 5, 6, 7, 8, 9, 11, 12, 17, 22, 23, 30, 35, 49]\n",
      "[]\n",
      "[1, 2, ['a', 'u', 5], 5.2, 3.14, ['x', 5, 22.7]]\n",
      "True\n",
      "False\n",
      "True\n"
     ]
    }
   ],
   "source": [
    "print(integers)\n",
    "print(string)\n",
    "print(mix)\n",
    "\n",
    "print(1 in integers)\n",
    "print(\"q\" in string)\n",
    "print(not 'w' in string)"
   ]
  }
 ],
 "metadata": {
  "kernelspec": {
   "display_name": "Python 3",
   "language": "python",
   "name": "python3"
  },
  "language_info": {
   "codemirror_mode": {
    "name": "ipython",
    "version": 3
   },
   "file_extension": ".py",
   "mimetype": "text/x-python",
   "name": "python",
   "nbconvert_exporter": "python",
   "pygments_lexer": "ipython3",
   "version": "3.7.3"
  }
 },
 "nbformat": 4,
 "nbformat_minor": 2
}
