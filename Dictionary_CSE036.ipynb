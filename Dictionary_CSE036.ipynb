{
 "cells": [
  {
   "cell_type": "markdown",
   "metadata": {},
   "source": [
    "# Creating Dictionary"
   ]
  },
  {
   "cell_type": "code",
   "execution_count": 3,
   "metadata": {},
   "outputs": [
    {
     "name": "stdout",
     "output_type": "stream",
     "text": [
      "{1: 'Mango', 2: 'PineApple', 3: 'Guava', 4: 'Apple'}\n",
      "{'a': 'Tomato', 'b': 'Potatao', 'c': 'LadyFinger'}\n"
     ]
    },
    {
     "data": {
      "text/plain": [
       "dict"
      ]
     },
     "execution_count": 3,
     "metadata": {},
     "output_type": "execute_result"
    }
   ],
   "source": [
    "fruits = {\n",
    "    1 : \"Mango\",\n",
    "    2 : \"PineApple\",\n",
    "    3 : \"Guava\",\n",
    "    4 : \"Apple\"\n",
    "         }                  # intendation of the curly brackets \n",
    "                            # is not required..\n",
    "                            # using dict()\n",
    "                            # my_dict = dict({1:'apple', 2:'ball'})\n",
    "vegetables = {\n",
    "    'a' : 'Tomato', \n",
    "    'b' : 'Potatao',\n",
    "    'c' : 'LadyFinger' }\n",
    "\n",
    "print(fruits)\n",
    "print(vegetables)\n",
    "\n",
    "type(fruits)"
   ]
  },
  {
   "cell_type": "code",
   "execution_count": 5,
   "metadata": {},
   "outputs": [
    {
     "name": "stdout",
     "output_type": "stream",
     "text": [
      "PineApple\n",
      "LadyFinger\n"
     ]
    }
   ],
   "source": [
    "print(fruits[2])              # very important\n",
    "print(vegetables.get('c'))"
   ]
  },
  {
   "cell_type": "markdown",
   "metadata": {},
   "source": [
    "# Updating Dictionary"
   ]
  },
  {
   "cell_type": "code",
   "execution_count": 6,
   "metadata": {},
   "outputs": [
    {
     "name": "stdout",
     "output_type": "stream",
     "text": [
      "{1: 'Mango', 2: 'Lichi', 3: 'Guava', 4: 'Apple'}\n"
     ]
    }
   ],
   "source": [
    "fruits[2] = 'Lichi'\n",
    "print(fruits)"
   ]
  },
  {
   "cell_type": "code",
   "execution_count": 7,
   "metadata": {},
   "outputs": [
    {
     "name": "stdout",
     "output_type": "stream",
     "text": [
      "{1: 'Mango', 2: 'Lichi', 3: 'Guava', 4: 'Apple', 5: 'PineApple'}\n"
     ]
    }
   ],
   "source": [
    "fruits[5] = 'PineApple'\n",
    "print(fruits)"
   ]
  },
  {
   "cell_type": "code",
   "execution_count": 8,
   "metadata": {},
   "outputs": [
    {
     "name": "stdout",
     "output_type": "stream",
     "text": [
      "16\n",
      "PineApple\n",
      "{1: 1, 2: 4, 3: 9, 5: 25}\n",
      "{1: 'Mango', 2: 'Lichi', 3: 'Guava', 4: 'Apple'}\n"
     ]
    }
   ],
   "source": [
    "squares = {1:1, 2:4, 3:9, 4:16, 5:25}\n",
    "print(squares.pop(4))# displays values of the key which is poped\n",
    "print(fruits.pop(5))\n",
    "print(squares)\n",
    "print(fruits)\n"
   ]
  },
  {
   "cell_type": "code",
   "execution_count": 9,
   "metadata": {},
   "outputs": [
    {
     "name": "stdout",
     "output_type": "stream",
     "text": [
      "{1: 1, 2: 4, 3: 9, 5: 25}\n",
      "(5, 25)\n",
      "{1: 1, 2: 4, 3: 9}\n"
     ]
    }
   ],
   "source": [
    "print(squares)\n",
    "\n",
    "print(squares.popitem())  # Arbitary(random) item removed.\n",
    "                          # as dict is unordered..\n",
    "print(squares)"
   ]
  },
  {
   "cell_type": "code",
   "execution_count": 10,
   "metadata": {},
   "outputs": [
    {
     "name": "stdout",
     "output_type": "stream",
     "text": [
      "{'a': 'Tomato', 'b': 'Potatao', 'c': 'LadyFinger'}\n",
      "{'a': 'Tomato', 'c': 'LadyFinger'}\n"
     ]
    }
   ],
   "source": [
    "print(vegetables)\n",
    "del vegetables['b']\n",
    "print(vegetables)"
   ]
  },
  {
   "cell_type": "code",
   "execution_count": 11,
   "metadata": {},
   "outputs": [
    {
     "name": "stdout",
     "output_type": "stream",
     "text": [
      "{1: 1, 2: 4, 3: 9}\n",
      "{}\n"
     ]
    }
   ],
   "source": [
    "print(squares)\n",
    "squares.clear()\n",
    "print(squares)"
   ]
  },
  {
   "cell_type": "code",
   "execution_count": 13,
   "metadata": {},
   "outputs": [
    {
     "ename": "NameError",
     "evalue": "name 'squares' is not defined",
     "output_type": "error",
     "traceback": [
      "\u001b[1;31m---------------------------------------------------------------------------\u001b[0m",
      "\u001b[1;31mNameError\u001b[0m                                 Traceback (most recent call last)",
      "\u001b[1;32m<ipython-input-13-cb06f3676d13>\u001b[0m in \u001b[0;36m<module>\u001b[1;34m\u001b[0m\n\u001b[1;32m----> 1\u001b[1;33m \u001b[1;32mdel\u001b[0m \u001b[0msquares\u001b[0m\u001b[1;33m\u001b[0m\u001b[1;33m\u001b[0m\u001b[0m\n\u001b[0m\u001b[0;32m      2\u001b[0m \u001b[0mprint\u001b[0m\u001b[1;33m(\u001b[0m\u001b[0msquares\u001b[0m\u001b[1;33m)\u001b[0m\u001b[1;33m\u001b[0m\u001b[1;33m\u001b[0m\u001b[0m\n",
      "\u001b[1;31mNameError\u001b[0m: name 'squares' is not defined"
     ]
    }
   ],
   "source": [
    "del squares\n",
    "print(squares)"
   ]
  },
  {
   "cell_type": "markdown",
   "metadata": {},
   "source": [
    "# NEW METHODS AND FUNCTIONS"
   ]
  },
  {
   "cell_type": "code",
   "execution_count": 2,
   "metadata": {},
   "outputs": [
    {
     "name": "stdout",
     "output_type": "stream",
     "text": [
      "{'Aman': ['Dog', 'Cat', 'Rabbit', 'Parrot', 'Horse'], 'Bhavya': ['Dog', 'Cat', 'Rabbit', 'Parrot', 'Horse'], 'Chirag': ['Dog', 'Cat', 'Rabbit', 'Parrot', 'Horse'], 'Dev': ['Dog', 'Cat', 'Rabbit', 'Parrot', 'Horse'], 'Ellei': ['Dog', 'Cat', 'Rabbit', 'Parrot', 'Horse']}\n",
      "Aman\n",
      "Bhavya\n",
      "Chirag\n",
      "Dev\n",
      "Ellei\n"
     ]
    }
   ],
   "source": [
    "pets = {}.fromkeys(['Aman', 'Bhavya', 'Chirag', 'Dev', 'Ellei'], ['Dog', 'Cat', 'Rabbit', 'Parrot', 'Horse'])\n",
    "print(pets)\n",
    "\n",
    "for x in pets:    # x takes the key names..\n",
    "    print(x)"
   ]
  },
  {
   "cell_type": "code",
   "execution_count": 9,
   "metadata": {},
   "outputs": [
    {
     "name": "stdout",
     "output_type": "stream",
     "text": [
      "['Dog', 'Cat', 'Rabbit', 'Parrot', 'Horse']\n",
      "['Dog', 'Cat', 'Rabbit', 'Parrot', 'Horse']\n",
      "['Dog', 'Cat', 'Rabbit', 'Parrot', 'Horse']\n",
      "['Dog', 'Cat', 'Rabbit', 'Parrot', 'Horse']\n",
      "['Dog', 'Cat', 'Rabbit', 'Parrot', 'Horse']\n"
     ]
    },
    {
     "data": {
      "text/plain": [
       "['Aman', 'Bhavya', 'Chirag', 'Dev', 'Ellei']"
      ]
     },
     "execution_count": 9,
     "metadata": {},
     "output_type": "execute_result"
    }
   ],
   "source": [
    "for y in pets:          #this returns the values of the keys\n",
    "    print(pets[y])\n",
    "    \n",
    "sorted(pets.keys())    "
   ]
  },
  {
   "cell_type": "code",
   "execution_count": 11,
   "metadata": {},
   "outputs": [
    {
     "name": "stdout",
     "output_type": "stream",
     "text": [
      "{0: 0, 1: 1, 2: 4, 3: 9, 4: 16, 5: 25, 6: 36}\n"
     ]
    }
   ],
   "source": [
    "squares = {x: x*x for x in range(7)}\n",
    "print(squares)"
   ]
  },
  {
   "cell_type": "code",
   "execution_count": 12,
   "metadata": {},
   "outputs": [
    {
     "name": "stdout",
     "output_type": "stream",
     "text": [
      "True\n",
      "True\n"
     ]
    }
   ],
   "source": [
    "print(4 in squares)\n",
    "print(9 not in squares)\n",
    "# membership tests for key only not value\n",
    "#Checks if the key is in the dictionary or not. Don't Check Values"
   ]
  },
  {
   "cell_type": "code",
   "execution_count": 14,
   "metadata": {},
   "outputs": [
    {
     "name": "stdout",
     "output_type": "stream",
     "text": [
      "{1: 'Mango', 2: 'PineApple', 3: 'Guava', 4: 'Apple'}\n",
      "{'a': 'Tomato', 'b': 'Potatao', 'c': 'LadyFinger'}\n"
     ]
    },
    {
     "data": {
      "text/plain": [
       "dict"
      ]
     },
     "execution_count": 14,
     "metadata": {},
     "output_type": "execute_result"
    }
   ],
   "source": [
    "fruits = {\n",
    "    1 : \"Mango\",\n",
    "    2 : \"PineApple\",\n",
    "    3 : \"Guava\",\n",
    "    4 : \"Apple\"\n",
    "         }                  # intendation of the curly brackets \n",
    "                            # is not required..\n",
    "                            # using dict()\n",
    "                            # my_dict = dict({1:'apple', 2:'ball'})\n",
    "vegetables = {\n",
    "    'a' : 'Tomato', \n",
    "    'b' : 'Potatao',\n",
    "    'c' : 'LadyFinger' }\n",
    "\n",
    "print(fruits)\n",
    "print(vegetables)\n",
    "\n",
    "type(fruits)"
   ]
  },
  {
   "cell_type": "code",
   "execution_count": 16,
   "metadata": {},
   "outputs": [
    {
     "name": "stdout",
     "output_type": "stream",
     "text": [
      "4\n",
      "[1, 2, 3, 4]\n"
     ]
    }
   ],
   "source": [
    "print(len(fruits))\n",
    "print(sorted(fruits))   #SORTS ONLY THE KEYS.."
   ]
  },
  {
   "cell_type": "markdown",
   "metadata": {},
   "source": [
    "# Nested Dictionary"
   ]
  },
  {
   "cell_type": "code",
   "execution_count": 18,
   "metadata": {},
   "outputs": [
    {
     "name": "stdout",
     "output_type": "stream",
     "text": [
      "John\n",
      "22\n",
      "Female\n"
     ]
    }
   ],
   "source": [
    "people = {1: {'name': 'John', 'age': '27', 'sex': 'Male'},\n",
    "          2: {'name': 'Marie', 'age': '22', 'sex': 'Female'}}\n",
    "\n",
    "print(people[1]['name'])\n",
    "print(people[2]['age'])\n",
    "print(people[2]['sex'])\n"
   ]
  },
  {
   "cell_type": "code",
   "execution_count": 20,
   "metadata": {},
   "outputs": [
    {
     "name": "stdout",
     "output_type": "stream",
     "text": [
      "{'name': 'Luna', 'age': '24', 'sex': 'Female', 'married': 'No'}\n",
      "{'name': 'Peter', 'age': '29', 'sex': 'Male', 'married': 'Yes'}\n",
      "{'name': 'Luna', 'age': '24', 'sex': 'Female'}\n",
      "{'name': 'Peter', 'age': '29', 'sex': 'Male'}\n"
     ]
    }
   ],
   "source": [
    "#creation of a new dict in the existing one\n",
    "people[3] = {}\n",
    "people[3]['name'] = 'Luna'\n",
    "people[3]['age'] = '24'\n",
    "people[3]['sex'] = 'Female'\n",
    "people[3]['married'] = 'No'\n",
    "\n",
    "print(people[3])\n",
    "\n",
    "people[4] = {'name': 'Peter', 'age': '29', \n",
    "             'sex': 'Male', 'married': 'Yes'}\n",
    "print(people[4])\n",
    "\n",
    "\n",
    "del people[3]['married']\n",
    "del people[4]['married']\n",
    "\n",
    "\n",
    "print(people[3])\n",
    "print(people[4])"
   ]
  },
  {
   "cell_type": "code",
   "execution_count": null,
   "metadata": {},
   "outputs": [],
   "source": []
  }
 ],
 "metadata": {
  "kernelspec": {
   "display_name": "Python 3",
   "language": "python",
   "name": "python3"
  },
  "language_info": {
   "codemirror_mode": {
    "name": "ipython",
    "version": 3
   },
   "file_extension": ".py",
   "mimetype": "text/x-python",
   "name": "python",
   "nbconvert_exporter": "python",
   "pygments_lexer": "ipython3",
   "version": "3.7.3"
  }
 },
 "nbformat": 4,
 "nbformat_minor": 2
}
